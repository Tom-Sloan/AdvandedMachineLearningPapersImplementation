{
 "cells": [
  {
   "cell_type": "code",
   "execution_count": 1,
   "id": "2621ab58",
   "metadata": {
    "hide_input": false,
    "slideshow": {
     "slide_type": "skip"
    }
   },
   "outputs": [],
   "source": [
    "# Import necessary modules from manim\n",
    "from manim import *\n",
    "\n",
    "# Import necessary modules for torch\n",
    "import torch\n",
    "import torch.nn as nn\n",
    "import torch.optim as optim\n",
    "import importlib\n",
    "import sys\n",
    "import pandas as pd\n",
    "import torch\n",
    "import math\n",
    "import matplotlib.pyplot as plt\n",
    "import torch.nn.functional as F\n",
    "\n",
    "\n",
    "# Force reload of modules\n",
    "modules_to_reload = [\n",
    "    'visualizations.VanishingGradient',\n",
    "    'visualizations.Encoding',\n",
    "    'visualizations.SequencialProcess',\n",
    "    'visualizations.TransformerProcessing',\n",
    "    'visualizations.EncodingToEmbedding',\n",
    "    'visualizations.EmbeddingAndPositionalEncoding',\n",
    "    'visualizations.TransformerDiagram',\n",
    "    'visualizations.KeyQueryValueCalculation',\n",
    "    'visualizations.SplittingKeyQueryValue',\n",
    "    'visualizations.MergingKeyQueryValue',\n",
    "    'visualizations.LinearLayers',\n",
    "    'visualizations.ScaledDotProductAttentionScene',\n",
    "    'visualizations.utils',\n",
    "    'visualizations.ResidualConnection',\n",
    "    'visualizations.FeedForwardNetwork',\n",
    "    'visualizations.TransformerProcessingDecoderVsEncoder',\n",
    "    'visualizations.CatExample',\n",
    "    'visualizations.AttentionBlockAnimation',\n",
    "    'visualizations.AttentionBlockAnimationMasked',\n",
    "]\n",
    "\n",
    "for module in modules_to_reload:\n",
    "    if module in sys.modules:\n",
    "        importlib.reload(sys.modules[module])\n",
    "\n",
    "# Import modules\n",
    "from visualizations.VanishingGradient import VanishingGradient\n",
    "from visualizations.Encoding import Encoding\n",
    "from visualizations.SequencialProcess import SequentialProcessing\n",
    "from visualizations.TransformerProcessing import TransformerProcessing\n",
    "from visualizations.EncodingToEmbedding import EncodingToEmbedding\n",
    "from visualizations.EmbeddingAndPositionalEncoding import EmbeddingAndPositionalEncoding\n",
    "from visualizations.TransformerDiagram import TransformerDiagram\n",
    "from visualizations.KeyQueryValueCalculation import KeyQueryValueCalculation\n",
    "from visualizations.SplittingKeyQueryValue import SplittingKeyQueryValue\n",
    "from visualizations.MergingKeyQueryValue import MergingKeyQueryValue\n",
    "from visualizations.utils import BlockWithText\n",
    "from visualizations.utils import ConnectedBlocks\n",
    "from visualizations.utils import EmbeddingTable\n",
    "from visualizations.Multi_head_attention import LinearLayers2D\n",
    "from visualizations.utils import ScaledDotProductAttention\n",
    "from visualizations.ScaledDotProductAttentionScene import ScaledDotProductAttentionScene\n",
    "from visualizations.ResidualConnection import ResidualConnection\n",
    "from visualizations.FeedForwardNetwork import FeedForwardNetwork\n",
    "from visualizations.TransformerProcessingDecoderVsEncoder import TransformerProcessingDecoderVsEncoder\n",
    "from visualizations.CatExample import CatExample\n",
    "from visualizations.AttentionBlockAnimation import AttentionBlockAnimation\n",
    "from visualizations.AttentionBlockAnimationMasked import AttentionBlockAnimationMasked\n"
   ]
  },
  {
   "cell_type": "markdown",
   "id": "f0496358",
   "metadata": {
    "slideshow": {
     "slide_type": "slide"
    }
   },
   "source": [
    "# Attention Is All You Need\n",
    "by Ashish Vaswani, Noam Shazeer, Niki Parmar, Jakob Uszkoreit, Llion Jones, Aidan N. Gomez, Lukasz Kaiser, and Illia Polosukhin\n",
    "\n",
    "[link to the paper](https://arxiv.org/pdf/1706.03762)\n"
   ]
  },
  {
   "cell_type": "markdown",
   "id": "90e0f410",
   "metadata": {
    "slideshow": {
     "slide_type": "slide"
    }
   },
   "source": [
    "# Outline\n",
    "TL;DR: Invented the Transformer model, which is a type of NN designed to handle global and local dependencies in data."
   ]
  },
  {
   "cell_type": "markdown",
   "id": "9a0a65d9",
   "metadata": {
    "slideshow": {
     "slide_type": "fragment"
    }
   },
   "source": [
    "- The motivations behind the Transformer model.\n",
    "- A detailed breakdown of its architecture.\n",
    "- Step-by-step construction of an encoder/decoder block used in the paper."
   ]
  },
  {
   "cell_type": "markdown",
   "id": "0b41122c",
   "metadata": {
    "slideshow": {
     "slide_type": "slide"
    }
   },
   "source": [
    "To explain the transformer models, and how it differs from the traditional approaches, we will use the demo sentence:\n",
    "### Sentence: \n",
    "*\"The cat sat on the mat.\"*"
   ]
  },
  {
   "cell_type": "markdown",
   "id": "f68f741d",
   "metadata": {
    "slideshow": {
     "slide_type": "slide"
    }
   },
   "source": [
    "**Traditional Sequential Approaches:**\n",
    "- **Recurrent Neural Networks (RNNs):** Process sequences one element at a time, maintaining a hidden state that captures information about previous elements.\n",
    "- **Convolutional Neural Networks (CNNs):** Use fixed-size inputs, and use convolutional filters to capture local dependencies and layers to capture higher-level features.\n"
   ]
  },
  {
   "cell_type": "markdown",
   "id": "3cad09c0",
   "metadata": {
    "slideshow": {
     "slide_type": "slide"
    }
   },
   "source": [
    "*Limitations:* "
   ]
  },
  {
   "cell_type": "markdown",
   "id": "7d66af1b",
   "metadata": {
    "slideshow": {
     "slide_type": "fragment"
    }
   },
   "source": [
    "- Sequential processing limits parallelization, leading to longer training times."
   ]
  },
  {
   "cell_type": "markdown",
   "id": "cc672d32",
   "metadata": {
    "slideshow": {
     "slide_type": "fragment"
    }
   },
   "source": [
    "\n",
    "- Struggle with long-range dependencies due to vanishing gradients."
   ]
  },
  {
   "cell_type": "code",
   "execution_count": 2,
   "id": "8e615e93",
   "metadata": {
    "hide_input": true,
    "slideshow": {
     "slide_type": "subslide"
    },
    "tags": [
     "hide_input"
    ]
   },
   "outputs": [
    {
     "data": {
      "text/html": [
       "<pre style=\"white-space:pre;overflow-x:auto;line-height:normal;font-family:Menlo,'DejaVu Sans Mono',consolas,'Courier New',monospace\">Manim Community <span style=\"color: #008000; text-decoration-color: #008000\">v0.18.1</span>\n",
       "\n",
       "</pre>\n"
      ],
      "text/plain": [
       "Manim Community \u001b[32mv0.\u001b[0m\u001b[32m18.1\u001b[0m\n",
       "\n"
      ]
     },
     "metadata": {},
     "output_type": "display_data"
    },
    {
     "name": "stderr",
     "output_type": "stream",
     "text": [
      "                                                                                                                                                                                                                                                  \r"
     ]
    },
    {
     "data": {
      "text/html": [
       "<video src=\"media/jupyter/SequentialProcessing@2024-10-07@14-08-36.mp4\" controls autoplay loop style=\"max-width: 60%;\"  >\n",
       "      Your browser does not support the <code>video</code> element.\n",
       "    </video>"
      ],
      "text/plain": [
       "<IPython.core.display.Video object>"
      ]
     },
     "metadata": {},
     "output_type": "display_data"
    }
   ],
   "source": [
    "%manim -qh -v CRITICAL SequentialProcessing"
   ]
  },
  {
   "cell_type": "markdown",
   "id": "77de5211",
   "metadata": {
    "slideshow": {
     "slide_type": "slide"
    }
   },
   "source": [
    "**Transformers**\n",
    "The transformer solves these issues by using a mechanism called attention to capture affinities, or relationships, between all data pairs at the same time. This allows them to enable parallel processing of sequences, capturing both local and global dependencies."
   ]
  },
  {
   "cell_type": "markdown",
   "id": "e2df0905",
   "metadata": {
    "slideshow": {
     "slide_type": "fragment"
    }
   },
   "source": [
    "- *Limitations:* Require significant computational resources and training data."
   ]
  },
  {
   "cell_type": "code",
   "execution_count": 3,
   "id": "3e4d1dd9",
   "metadata": {
    "hide_input": true,
    "slideshow": {
     "slide_type": "subslide"
    },
    "tags": [
     "hide_input"
    ]
   },
   "outputs": [
    {
     "data": {
      "text/html": [
       "<pre style=\"white-space:pre;overflow-x:auto;line-height:normal;font-family:Menlo,'DejaVu Sans Mono',consolas,'Courier New',monospace\">Manim Community <span style=\"color: #008000; text-decoration-color: #008000\">v0.18.1</span>\n",
       "\n",
       "</pre>\n"
      ],
      "text/plain": [
       "Manim Community \u001b[32mv0.\u001b[0m\u001b[32m18.1\u001b[0m\n",
       "\n"
      ]
     },
     "metadata": {},
     "output_type": "display_data"
    },
    {
     "name": "stderr",
     "output_type": "stream",
     "text": [
      "                                                                                                                                                                                                                                                  \r"
     ]
    },
    {
     "data": {
      "text/html": [
       "<video src=\"media/jupyter/TransformerProcessing@2024-10-07@14-08-38.mp4\" controls autoplay loop style=\"max-width: 60%;\"  >\n",
       "      Your browser does not support the <code>video</code> element.\n",
       "    </video>"
      ],
      "text/plain": [
       "<IPython.core.display.Video object>"
      ]
     },
     "metadata": {},
     "output_type": "display_data"
    }
   ],
   "source": [
    "%manim -qh -v CRITICAL TransformerProcessing"
   ]
  },
  {
   "cell_type": "markdown",
   "id": "0a0a91e1",
   "metadata": {
    "slideshow": {
     "slide_type": "notes"
    }
   },
   "source": [
    "\n",
    "To explain the Transformer model, we need to understand the following concepts:\n",
    "\n",
    "### How a Transformer Connects the Words\n",
    "\n",
    "A transformer model uses **self-attention** to understand the relationships between words in the sentence. Here’s a breakdown of how this process might look for each word in the sentence:\n",
    "1. **Self-Attention Mechanism**: When processing the sentence, the self-attention mechanism allows each word to \"attend\" to every other word, determining the importance of these connections for understanding the overall context. Each word generates an attention score for every other word, indicating how much attention it should give to each.\n",
    "\n",
    "2. **Connections Between Words**:\n",
    "   - **\"The\"**: This word likely attends more to the noun directly following it, \"cat,\" because articles like \"the\" usually define nouns. It also mildly attends to \"sat\" to understand what action \"the cat\" is performing.\n",
    "   - **\"Cat\"**: The model gives higher attention to \"sat\" since it is the verb that describes what the cat is doing. It might also attend to \"the\" for context (definite article), but its main focus is on the action.\n",
    "   - **\"Sat\"**: As the verb, \"sat\" is central to understanding the sentence's action. It attends to \"cat\" because it needs to know who is performing the action. It also attends to \"on the mat\" to complete the context of where this action is happening.\n",
    "   - **\"On\"**: This preposition attends primarily to \"the mat\" because prepositions typically indicate relationships between nouns and the rest of the sentence. It might also give slight attention to \"sat\" to reinforce the connection between the action and the location.\n",
    "   - **\"The\" (second occurrence)**: Similar to the first \"the,\" it attends to \"mat\" since articles give context to nouns.\n",
    "   - **\"Mat\"**: The model focuses on the preceding words (\"the\" and \"on\") to grasp that \"mat\" is the location of the action. It also connects back to \"sat\" to complete the spatial context.\n",
    "\n",
    "### Summary\n",
    "In a transformer, self-attention dynamically determines which words in the sentence are most important for understanding the context and relationships. For instance, \"cat\" and \"sat\" have a strong connection since they form the core subject-action relationship. \"On the mat\" adds the locational context to the action, influencing how \"sat\" is interpreted.\n",
    "\n",
    "The output of each self-attention layer updates the model's understanding of each word's role within the sentence by integrating information from related words, allowing the transformer to encode the meaning and context effectively.\n",
    "\n"
   ]
  },
  {
   "cell_type": "markdown",
   "id": "c6077cc1",
   "metadata": {
    "slideshow": {
     "slide_type": "slide"
    }
   },
   "source": [
    "What is the architecture of a transformer?"
   ]
  },
  {
   "cell_type": "code",
   "execution_count": 4,
   "id": "046c35f4",
   "metadata": {
    "hide_input": true,
    "scrolled": true,
    "slideshow": {
     "slide_type": "subslide"
    },
    "tags": [
     "hide_input"
    ]
   },
   "outputs": [
    {
     "data": {
      "text/html": [
       "<pre style=\"white-space:pre;overflow-x:auto;line-height:normal;font-family:Menlo,'DejaVu Sans Mono',consolas,'Courier New',monospace\">Manim Community <span style=\"color: #008000; text-decoration-color: #008000\">v0.18.1</span>\n",
       "\n",
       "</pre>\n"
      ],
      "text/plain": [
       "Manim Community \u001b[32mv0.\u001b[0m\u001b[32m18.1\u001b[0m\n",
       "\n"
      ]
     },
     "metadata": {},
     "output_type": "display_data"
    },
    {
     "name": "stderr",
     "output_type": "stream",
     "text": [
      "                                                                                                                                                                                                                                                  \r"
     ]
    },
    {
     "data": {
      "text/html": [
       "<video src=\"media/jupyter/TransformerDiagram@2024-10-07@14-08-40.mp4\" controls autoplay loop style=\"max-width: 60%;\"  >\n",
       "      Your browser does not support the <code>video</code> element.\n",
       "    </video>"
      ],
      "text/plain": [
       "<IPython.core.display.Video object>"
      ]
     },
     "metadata": {},
     "output_type": "display_data"
    }
   ],
   "source": [
    "%manim -qh -v ERROR TransformerDiagram"
   ]
  },
  {
   "cell_type": "markdown",
   "id": "cc68864f",
   "metadata": {
    "slideshow": {
     "slide_type": "slide"
    }
   },
   "source": [
    "- **Encoder**: If you want to modify or understand an input, you use the encoder.\n",
    "- **Decoder**: If you want to create a new output, you use the decoder.\n",
    "- **Encoder/Decoder**: If you want to create a new output based on an input, you use the encoder/decoder."
   ]
  },
  {
   "cell_type": "markdown",
   "id": "5fb77e1b",
   "metadata": {
    "slideshow": {
     "slide_type": "fragment"
    }
   },
   "source": [
    "This paper uses the encoder/decorder architecture for german to english translation. So to put it into encoder/decoder simplified from above, they wanted english based on the german sentence."
   ]
  },
  {
   "cell_type": "code",
   "execution_count": 5,
   "id": "45385a06",
   "metadata": {
    "hide_input": true,
    "scrolled": true,
    "slideshow": {
     "slide_type": "subslide"
    },
    "tags": [
     "hide_input"
    ]
   },
   "outputs": [
    {
     "data": {
      "text/html": [
       "<pre style=\"white-space:pre;overflow-x:auto;line-height:normal;font-family:Menlo,'DejaVu Sans Mono',consolas,'Courier New',monospace\">Manim Community <span style=\"color: #008000; text-decoration-color: #008000\">v0.18.1</span>\n",
       "\n",
       "</pre>\n"
      ],
      "text/plain": [
       "Manim Community \u001b[32mv0.\u001b[0m\u001b[32m18.1\u001b[0m\n",
       "\n"
      ]
     },
     "metadata": {},
     "output_type": "display_data"
    },
    {
     "name": "stderr",
     "output_type": "stream",
     "text": [
      "                                                                                                                                                                                                                                                  \r"
     ]
    },
    {
     "data": {
      "text/html": [
       "<video src=\"media/jupyter/TransformerProcessingDecoderVsEncoder@2024-10-07@14-08-42.mp4\" controls autoplay loop style=\"max-width: 60%;\"  >\n",
       "      Your browser does not support the <code>video</code> element.\n",
       "    </video>"
      ],
      "text/plain": [
       "<IPython.core.display.Video object>"
      ]
     },
     "metadata": {},
     "output_type": "display_data"
    }
   ],
   "source": [
    "%manim -qh -v CRITICAL TransformerProcessingDecoderVsEncoder"
   ]
  },
  {
   "attachments": {
    "image.png": {
     "image/png": "[encoded data removed]"
    }
   },
   "cell_type": "markdown",
   "id": "549bcef8",
   "metadata": {
    "hide_input": false,
    "slideshow": {
     "slide_type": "slide"
    }
   },
   "source": [
    "![image.png](attachment:image.png)"
   ]
  },
  {
   "cell_type": "code",
   "execution_count": 6,
   "id": "c318c727",
   "metadata": {
    "hide_input": true,
    "scrolled": true,
    "slideshow": {
     "slide_type": "subslide"
    }
   },
   "outputs": [
    {
     "data": {
      "text/html": [
       "<pre style=\"white-space:pre;overflow-x:auto;line-height:normal;font-family:Menlo,'DejaVu Sans Mono',consolas,'Courier New',monospace\">Manim Community <span style=\"color: #008000; text-decoration-color: #008000\">v0.18.1</span>\n",
       "\n",
       "</pre>\n"
      ],
      "text/plain": [
       "Manim Community \u001b[32mv0.\u001b[0m\u001b[32m18.1\u001b[0m\n",
       "\n"
      ]
     },
     "metadata": {},
     "output_type": "display_data"
    },
    {
     "name": "stderr",
     "output_type": "stream",
     "text": [
      "                                                                                                                                                                                                                                                  \r"
     ]
    },
    {
     "data": {
      "text/html": [
       "<video src=\"media/jupyter/AttentionBlockAnimation@2024-10-07@14-09-45.mp4\" controls autoplay loop style=\"max-width: 60%;\"  >\n",
       "      Your browser does not support the <code>video</code> element.\n",
       "    </video>"
      ],
      "text/plain": [
       "<IPython.core.display.Video object>"
      ]
     },
     "metadata": {},
     "output_type": "display_data"
    }
   ],
   "source": [
    "%manim -qh -v CRITICAL AttentionBlockAnimation"
   ]
  },
  {
   "attachments": {
    "image-3.png": {
     "image/png": "[encoded data removed]"
    }
   },
   "cell_type": "markdown",
   "id": "54023036",
   "metadata": {
    "hide_input": false,
    "slideshow": {
     "slide_type": "slide"
    }
   },
   "source": [
    "![image-3.png](attachment:image-3.png)"
   ]
  },
  {
   "cell_type": "code",
   "execution_count": 7,
   "id": "e2f56ddc",
   "metadata": {
    "hide_input": true,
    "scrolled": true,
    "slideshow": {
     "slide_type": "slide"
    }
   },
   "outputs": [
    {
     "data": {
      "text/html": [
       "<pre style=\"white-space:pre;overflow-x:auto;line-height:normal;font-family:Menlo,'DejaVu Sans Mono',consolas,'Courier New',monospace\">Manim Community <span style=\"color: #008000; text-decoration-color: #008000\">v0.18.1</span>\n",
       "\n",
       "</pre>\n"
      ],
      "text/plain": [
       "Manim Community \u001b[32mv0.\u001b[0m\u001b[32m18.1\u001b[0m\n",
       "\n"
      ]
     },
     "metadata": {},
     "output_type": "display_data"
    },
    {
     "name": "stderr",
     "output_type": "stream",
     "text": [
      "                                                                                                                                                                                                                                                  \r"
     ]
    },
    {
     "data": {
      "text/html": [
       "<video src=\"media/jupyter/AttentionBlockAnimationMasked@2024-10-07@14-10-16.mp4\" controls autoplay loop style=\"max-width: 60%;\"  >\n",
       "      Your browser does not support the <code>video</code> element.\n",
       "    </video>"
      ],
      "text/plain": [
       "<IPython.core.display.Video object>"
      ]
     },
     "metadata": {},
     "output_type": "display_data"
    }
   ],
   "source": [
    "%manim -qh -v CRITICAL AttentionBlockAnimationMasked"
   ]
  },
  {
   "cell_type": "code",
   "execution_count": 8,
   "id": "9e774e10",
   "metadata": {
    "hide_input": true,
    "slideshow": {
     "slide_type": "slide"
    },
    "tags": [
     "hide_input"
    ]
   },
   "outputs": [
    {
     "data": {
      "text/html": [
       "<style type=\"text/css\">\n",
       "#T_e45e7 th {\n",
       "  text-align: center;\n",
       "  font-weight: bold;\n",
       "}\n",
       "#T_e45e7_row0_col0, #T_e45e7_row0_col1, #T_e45e7_row0_col2, #T_e45e7_row1_col0, #T_e45e7_row1_col1, #T_e45e7_row1_col2, #T_e45e7_row2_col0, #T_e45e7_row2_col1, #T_e45e7_row2_col2, #T_e45e7_row3_col0, #T_e45e7_row3_col1, #T_e45e7_row3_col2, #T_e45e7_row4_col0, #T_e45e7_row4_col1, #T_e45e7_row4_col2, #T_e45e7_row5_col0, #T_e45e7_row5_col1, #T_e45e7_row5_col2, #T_e45e7_row6_col0, #T_e45e7_row6_col1, #T_e45e7_row6_col2, #T_e45e7_row7_col0, #T_e45e7_row7_col1, #T_e45e7_row7_col2 {\n",
       "  text-align: left;\n",
       "  white-space: pre-wrap;\n",
       "}\n",
       "</style>\n",
       "<table id=\"T_e45e7\">\n",
       "  <thead>\n",
       "    <tr>\n",
       "      <th class=\"blank level0\" >&nbsp;</th>\n",
       "      <th id=\"T_e45e7_level0_col0\" class=\"col_heading level0 col0\" >Aspect</th>\n",
       "      <th id=\"T_e45e7_level0_col1\" class=\"col_heading level0 col1\" >Encoder</th>\n",
       "      <th id=\"T_e45e7_level0_col2\" class=\"col_heading level0 col2\" >Decoder</th>\n",
       "    </tr>\n",
       "  </thead>\n",
       "  <tbody>\n",
       "    <tr>\n",
       "      <th id=\"T_e45e7_level0_row0\" class=\"row_heading level0 row0\" >0</th>\n",
       "      <td id=\"T_e45e7_row0_col0\" class=\"data row0 col0\" >Input</td>\n",
       "      <td id=\"T_e45e7_row0_col1\" class=\"data row0 col1\" >Processes the entire input sequence at once</td>\n",
       "      <td id=\"T_e45e7_row0_col2\" class=\"data row0 col2\" >Processes output sequence step by step</td>\n",
       "    </tr>\n",
       "    <tr>\n",
       "      <th id=\"T_e45e7_level0_row1\" class=\"row_heading level0 row1\" >1</th>\n",
       "      <td id=\"T_e45e7_row1_col0\" class=\"data row1 col0\" >Attention</td>\n",
       "      <td id=\"T_e45e7_row1_col1\" class=\"data row1 col1\" >Self-attention only</td>\n",
       "      <td id=\"T_e45e7_row1_col2\" class=\"data row1 col2\" >Both self-attention and cross-attention</td>\n",
       "    </tr>\n",
       "    <tr>\n",
       "      <th id=\"T_e45e7_level0_row2\" class=\"row_heading level0 row2\" >2</th>\n",
       "      <td id=\"T_e45e7_row2_col0\" class=\"data row2 col0\" >Purpose</td>\n",
       "      <td id=\"T_e45e7_row2_col1\" class=\"data row2 col1\" >Encodes input into context-aware representations</td>\n",
       "      <td id=\"T_e45e7_row2_col2\" class=\"data row2 col2\" >Generates output based on encoded input and previous outputs</td>\n",
       "    </tr>\n",
       "    <tr>\n",
       "      <th id=\"T_e45e7_level0_row3\" class=\"row_heading level0 row3\" >3</th>\n",
       "      <td id=\"T_e45e7_row3_col0\" class=\"data row3 col0\" >Masking</td>\n",
       "      <td id=\"T_e45e7_row3_col1\" class=\"data row3 col1\" >No masking required</td>\n",
       "      <td id=\"T_e45e7_row3_col2\" class=\"data row3 col2\" >Uses masking in self-attention to prevent looking ahead</td>\n",
       "    </tr>\n",
       "    <tr>\n",
       "      <th id=\"T_e45e7_level0_row4\" class=\"row_heading level0 row4\" >4</th>\n",
       "      <td id=\"T_e45e7_row4_col0\" class=\"data row4 col0\" >Output</td>\n",
       "      <td id=\"T_e45e7_row4_col1\" class=\"data row4 col1\" >Contextual representations for each input token</td>\n",
       "      <td id=\"T_e45e7_row4_col2\" class=\"data row4 col2\" >Probability distribution over vocabulary for next token</td>\n",
       "    </tr>\n",
       "    <tr>\n",
       "      <th id=\"T_e45e7_level0_row5\" class=\"row_heading level0 row5\" >5</th>\n",
       "      <td id=\"T_e45e7_row5_col0\" class=\"data row5 col0\" >Information flow</td>\n",
       "      <td id=\"T_e45e7_row5_col1\" class=\"data row5 col1\" >Bidirectional (can attend to both past and future tokens)</td>\n",
       "      <td id=\"T_e45e7_row5_col2\" class=\"data row5 col2\" >Unidirectional in self-attention (can only attend to past tokens)</td>\n",
       "    </tr>\n",
       "    <tr>\n",
       "      <th id=\"T_e45e7_level0_row6\" class=\"row_heading level0 row6\" >6</th>\n",
       "      <td id=\"T_e45e7_row6_col0\" class=\"data row6 col0\" >Usage in inference</td>\n",
       "      <td id=\"T_e45e7_row6_col1\" class=\"data row6 col1\" >Computed once for the entire input</td>\n",
       "      <td id=\"T_e45e7_row6_col2\" class=\"data row6 col2\" >Runs iteratively to generate each output token</td>\n",
       "    </tr>\n",
       "    <tr>\n",
       "      <th id=\"T_e45e7_level0_row7\" class=\"row_heading level0 row7\" >7</th>\n",
       "      <td id=\"T_e45e7_row7_col0\" class=\"data row7 col0\" >Typical applications</td>\n",
       "      <td id=\"T_e45e7_row7_col1\" class=\"data row7 col1\" >Understanding input (e.g., sentiment analysis, classification)</td>\n",
       "      <td id=\"T_e45e7_row7_col2\" class=\"data row7 col2\" >Generating output (e.g. text generation)</td>\n",
       "    </tr>\n",
       "  </tbody>\n",
       "</table>\n"
      ],
      "text/plain": [
       "<IPython.core.display.HTML object>"
      ]
     },
     "metadata": {},
     "output_type": "display_data"
    }
   ],
   "source": [
    "# Comparison of Encoder and Decoder in Transformer Architecture\n",
    "\n",
    "import pandas as pd\n",
    "from IPython.display import display, HTML\n",
    "\n",
    "data = {\n",
    "    'Aspect': ['Input', 'Attention', 'Purpose', 'Masking', 'Output', 'Information flow', 'Usage in inference', 'Typical applications'],\n",
    "    'Encoder': ['Processes the entire input sequence at once', 'Self-attention only', 'Encodes input into context-aware representations', 'No masking required', 'Contextual representations for each input token', 'Bidirectional (can attend to both past and future tokens)', 'Computed once for the entire input', 'Understanding input (e.g., sentiment analysis, classification)'],\n",
    "    'Decoder': ['Processes output sequence step by step', 'Both self-attention and cross-attention', 'Generates output based on encoded input and previous outputs', 'Uses masking in self-attention to prevent looking ahead', 'Probability distribution over vocabulary for next token', 'Unidirectional in self-attention (can only attend to past tokens)', 'Runs iteratively to generate each output token', 'Generating output (e.g. text generation)']\n",
    "}\n",
    "\n",
    "df = pd.DataFrame(data)\n",
    "\n",
    "# Apply custom styling\n",
    "styled_df = df.style.set_properties(**{'text-align': 'left', 'white-space': 'pre-wrap'})\n",
    "styled_df = styled_df.set_table_styles([{'selector': 'th', 'props': [('text-align', 'center'), ('font-weight', 'bold')]}])\n",
    "\n",
    "# Display the styled table\n",
    "display(HTML(styled_df.to_html()))\n"
   ]
  },
  {
   "attachments": {
    "image.png": {
     "image/png": "[encoded data removed]"
    }
   },
   "cell_type": "markdown",
   "id": "59a96268",
   "metadata": {
    "slideshow": {
     "slide_type": "slide"
    }
   },
   "source": [
    "![image.png](attachment:image.png)"
   ]
  },
  {
   "cell_type": "code",
   "execution_count": 9,
   "id": "19b11145",
   "metadata": {
    "hide_input": true,
    "scrolled": true,
    "slideshow": {
     "slide_type": "slide"
    },
    "tags": [
     "hide_input"
    ]
   },
   "outputs": [
    {
     "data": {
      "text/html": [
       "<pre style=\"white-space:pre;overflow-x:auto;line-height:normal;font-family:Menlo,'DejaVu Sans Mono',consolas,'Courier New',monospace\">Manim Community <span style=\"color: #008000; text-decoration-color: #008000\">v0.18.1</span>\n",
       "\n",
       "</pre>\n"
      ],
      "text/plain": [
       "Manim Community \u001b[32mv0.\u001b[0m\u001b[32m18.1\u001b[0m\n",
       "\n"
      ]
     },
     "metadata": {},
     "output_type": "display_data"
    },
    {
     "name": "stderr",
     "output_type": "stream",
     "text": [
      "                                                                                                                                                                                                                                                  \r"
     ]
    },
    {
     "data": {
      "text/html": [
       "<video src=\"media/jupyter/TransformerDiagram@2024-10-07@14-10-18.mp4\" controls autoplay loop style=\"max-width: 60%;\"  >\n",
       "      Your browser does not support the <code>video</code> element.\n",
       "    </video>"
      ],
      "text/plain": [
       "<IPython.core.display.Video object>"
      ]
     },
     "metadata": {},
     "output_type": "display_data"
    }
   ],
   "source": [
    "%manim -qh -v ERROR TransformerDiagram"
   ]
  },
  {
   "cell_type": "code",
   "execution_count": 10,
   "id": "6ed0b479",
   "metadata": {
    "hide_input": true,
    "scrolled": true,
    "slideshow": {
     "slide_type": "slide"
    },
    "tags": [
     "hide_input"
    ]
   },
   "outputs": [
    {
     "data": {
      "text/html": [
       "<pre style=\"white-space:pre;overflow-x:auto;line-height:normal;font-family:Menlo,'DejaVu Sans Mono',consolas,'Courier New',monospace\">Manim Community <span style=\"color: #008000; text-decoration-color: #008000\">v0.18.1</span>\n",
       "\n",
       "</pre>\n"
      ],
      "text/plain": [
       "Manim Community \u001b[32mv0.\u001b[0m\u001b[32m18.1\u001b[0m\n",
       "\n"
      ]
     },
     "metadata": {},
     "output_type": "display_data"
    },
    {
     "name": "stderr",
     "output_type": "stream",
     "text": [
      "                                                                                                                                                                                                                                                  \r"
     ]
    },
    {
     "data": {
      "text/html": [
       "<video src=\"media/jupyter/Encoding@2024-10-07@14-10-20.mp4\" controls autoplay loop style=\"max-width: 60%;\"  >\n",
       "      Your browser does not support the <code>video</code> element.\n",
       "    </video>"
      ],
      "text/plain": [
       "<IPython.core.display.Video object>"
      ]
     },
     "metadata": {},
     "output_type": "display_data"
    }
   ],
   "source": [
    "%manim -qh -v CRITICAL Encoding"
   ]
  },
  {
   "cell_type": "code",
   "execution_count": 11,
   "id": "c4ebf2f5",
   "metadata": {
    "slideshow": {
     "slide_type": "subslide"
    }
   },
   "outputs": [
    {
     "name": "stdout",
     "output_type": "stream",
     "text": [
      "Encoded: [1, 2, 3, 4, 5, 6]\n",
      "Decoded: The cat sat on the mat\n"
     ]
    }
   ],
   "source": [
    "word_to_int = {\"The\": 1, \"cat\": 2, \"sat\": 3, \"on\": 4, \"the\": 5, \"mat\": 6}\n",
    "int_to_word = {v: k for k, v in word_to_int.items()}\n",
    "sentence_to_numbers = lambda sentence: [word_to_int.get(word, 0) for word in sentence.split()]\n",
    "numbers_to_sentence = lambda numbers: \" \".join([int_to_word.get(num, \"\") for num in numbers])\n",
    "print(\"Encoded:\", sentence_to_numbers(\"The cat sat on the mat\"))\n",
    "print(\"Decoded:\", numbers_to_sentence([1, 2, 3, 4, 5, 6]))\n"
   ]
  },
  {
   "cell_type": "code",
   "execution_count": 12,
   "id": "7eb61fda",
   "metadata": {
    "hide_input": true,
    "scrolled": true,
    "slideshow": {
     "slide_type": "slide"
    },
    "tags": [
     "hide_input"
    ]
   },
   "outputs": [
    {
     "data": {
      "text/html": [
       "<pre style=\"white-space:pre;overflow-x:auto;line-height:normal;font-family:Menlo,'DejaVu Sans Mono',consolas,'Courier New',monospace\">Manim Community <span style=\"color: #008000; text-decoration-color: #008000\">v0.18.1</span>\n",
       "\n",
       "</pre>\n"
      ],
      "text/plain": [
       "Manim Community \u001b[32mv0.\u001b[0m\u001b[32m18.1\u001b[0m\n",
       "\n"
      ]
     },
     "metadata": {},
     "output_type": "display_data"
    },
    {
     "name": "stderr",
     "output_type": "stream",
     "text": [
      "                                                                                                                                                                                                                                                  \r"
     ]
    },
    {
     "data": {
      "text/html": [
       "<video src=\"media/jupyter/TransformerDiagram@2024-10-07@14-10-22.mp4\" controls autoplay loop style=\"max-width: 60%;\"  >\n",
       "      Your browser does not support the <code>video</code> element.\n",
       "    </video>"
      ],
      "text/plain": [
       "<IPython.core.display.Video object>"
      ]
     },
     "metadata": {},
     "output_type": "display_data"
    }
   ],
   "source": [
    "%manim -qh -v ERROR TransformerDiagram"
   ]
  },
  {
   "cell_type": "code",
   "execution_count": 13,
   "id": "fd97d890",
   "metadata": {
    "hide_input": true,
    "slideshow": {
     "slide_type": "slide"
    },
    "tags": [
     "hide_input"
    ]
   },
   "outputs": [
    {
     "data": {
      "text/html": [
       "<pre style=\"white-space:pre;overflow-x:auto;line-height:normal;font-family:Menlo,'DejaVu Sans Mono',consolas,'Courier New',monospace\">Manim Community <span style=\"color: #008000; text-decoration-color: #008000\">v0.18.1</span>\n",
       "\n",
       "</pre>\n"
      ],
      "text/plain": [
       "Manim Community \u001b[32mv0.\u001b[0m\u001b[32m18.1\u001b[0m\n",
       "\n"
      ]
     },
     "metadata": {},
     "output_type": "display_data"
    },
    {
     "name": "stderr",
     "output_type": "stream",
     "text": [
      "                                                                                                                                                                                                                                                  \r"
     ]
    },
    {
     "data": {
      "text/html": [
       "<video src=\"media/jupyter/EncodingToEmbedding@2024-10-07@14-10-27.mp4\" controls autoplay loop style=\"max-width: 60%;\"  >\n",
       "      Your browser does not support the <code>video</code> element.\n",
       "    </video>"
      ],
      "text/plain": [
       "<IPython.core.display.Video object>"
      ]
     },
     "metadata": {},
     "output_type": "display_data"
    }
   ],
   "source": [
    "%manim -qh -v CRITICAL EncodingToEmbedding"
   ]
  },
  {
   "cell_type": "code",
   "execution_count": 14,
   "id": "11b34aca",
   "metadata": {
    "slideshow": {
     "slide_type": "subslide"
    }
   },
   "outputs": [
    {
     "name": "stdout",
     "output_type": "stream",
     "text": [
      "Original sentence: The cat sat on the mat\n",
      "Encoded: [1, 2, 3, 4, 5, 6]\n",
      "Embeddings shape: torch.Size([6, 4])\n",
      "Embeddings:\n",
      " tensor([[ 1.1471e+00, -5.5310e-01, -1.1389e+00, -5.9272e-01],\n",
      "        [-1.7533e-01,  1.6141e+00,  1.0216e-03, -7.1667e-01],\n",
      "        [-1.1103e+00,  9.8580e-02, -2.2476e-01,  1.9244e+00],\n",
      "        [ 1.2383e-01,  2.9907e-02,  2.5109e-01,  1.9736e-01],\n",
      "        [-4.9118e-02, -1.1209e+00, -1.0988e+00,  1.0983e+00],\n",
      "        [ 7.7204e-01,  5.3512e-01,  1.0461e+00, -2.4300e-01]],\n",
      "       grad_fn=<EmbeddingBackward0>)\n"
     ]
    }
   ],
   "source": [
    "# Create an embedding layer\n",
    "vocab_size = len(word_to_int) + 1  # +1 for start character 0\n",
    "embedding_dim = 4  # This is not the same as the dimensionality of the model (dmodel), they are often the same.\n",
    "# The paper uses the 512 for both the embedding and model dimensionality\n",
    "embedding_layer = nn.Embedding(vocab_size, embedding_dim)\n",
    "\n",
    "# One-liner to create embeddings for a sentence\n",
    "create_embeddings = lambda sentence: embedding_layer(torch.tensor(sentence_to_numbers(sentence)))\n",
    "\n",
    "# Example usage\n",
    "sentence = \"The cat sat on the mat\"\n",
    "encoded = sentence_to_numbers(sentence)\n",
    "embeddings = create_embeddings(sentence)\n",
    "print(\"Original sentence:\", sentence)\n",
    "print(\"Encoded:\", encoded)\n",
    "print(\"Embeddings shape:\", embeddings.shape)\n",
    "print(\"Embeddings:\\n\", embeddings)"
   ]
  },
  {
   "cell_type": "markdown",
   "id": "b5cc1e54",
   "metadata": {},
   "source": [
    "Without positional Encoding the attention block is just a computational expensive Bag Of Words (commonly used document classifier).\n",
    "\n",
    "In a bag of words position doesn't matter. \n",
    "\n",
    "dog bites man === man bites dog\n",
    "\n",
    "By adding position, we can know the context of the words. "
   ]
  },
  {
   "cell_type": "code",
   "execution_count": 15,
   "id": "e332160a",
   "metadata": {
    "hide_input": true,
    "slideshow": {
     "slide_type": "slide"
    },
    "tags": [
     "hide_input"
    ]
   },
   "outputs": [
    {
     "data": {
      "text/html": [
       "<pre style=\"white-space:pre;overflow-x:auto;line-height:normal;font-family:Menlo,'DejaVu Sans Mono',consolas,'Courier New',monospace\">Manim Community <span style=\"color: #008000; text-decoration-color: #008000\">v0.18.1</span>\n",
       "\n",
       "</pre>\n"
      ],
      "text/plain": [
       "Manim Community \u001b[32mv0.\u001b[0m\u001b[32m18.1\u001b[0m\n",
       "\n"
      ]
     },
     "metadata": {},
     "output_type": "display_data"
    },
    {
     "name": "stderr",
     "output_type": "stream",
     "text": [
      "                                                                                                                                                                                                                                                  \r"
     ]
    },
    {
     "data": {
      "text/html": [
       "<video src=\"media/jupyter/EmbeddingAndPositionalEncoding@2024-10-07@14-10-44.mp4\" controls autoplay loop style=\"max-width: 60%;\"  >\n",
       "      Your browser does not support the <code>video</code> element.\n",
       "    </video>"
      ],
      "text/plain": [
       "<IPython.core.display.Video object>"
      ]
     },
     "metadata": {},
     "output_type": "display_data"
    }
   ],
   "source": [
    "%manim -qh -v CRITICAL EmbeddingAndPositionalEncoding"
   ]
  },
  {
   "cell_type": "code",
   "execution_count": 16,
   "id": "c279ed44",
   "metadata": {
    "scrolled": true,
    "slideshow": {
     "slide_type": "subslide"
    }
   },
   "outputs": [
    {
     "name": "stdout",
     "output_type": "stream",
     "text": [
      "Embeddings with Positional Encoding Shape: torch.Size([6, 4])\n",
      "\n",
      "Original embeddings (first 2 positions, first 5 dimensions):\n",
      "tensor([[ 1.1471e+00, -5.5310e-01, -1.1389e+00, -5.9272e-01],\n",
      "        [-1.7533e-01,  1.6141e+00,  1.0216e-03, -7.1667e-01]],\n",
      "       grad_fn=<SliceBackward0>)\n",
      "\n",
      "Positional Encoding (first 2 positions, first 5 dimensions):\n",
      "tensor([[0.0000, 1.0000, 0.0000, 1.0000],\n",
      "        [0.8415, 0.5403, 0.0100, 0.9999]])\n",
      "First few values of embeddings with PE:\n",
      "tensor([[ 1.1471,  0.4469, -1.1389,  0.4073],\n",
      "        [ 0.6661,  2.1544,  0.0110,  0.2833]], grad_fn=<SliceBackward0>)\n"
     ]
    }
   ],
   "source": [
    "# Use the embeddings from earlier\n",
    "seq_len, d_model = embeddings.shape\n",
    "\n",
    "# Generate positional encodings\n",
    "pe = torch.zeros(seq_len, d_model)\n",
    "position = torch.arange(seq_len).unsqueeze(1).float()\n",
    "div_term = torch.exp(torch.arange(0, d_model, 2).float() * -(math.log(10000.0) / d_model))\n",
    "pe[:, 0::2] = torch.sin(position * div_term)\n",
    "pe[:, 1::2] = torch.cos(position * div_term)\n",
    "\n",
    "# Add positional encoding to embeddings\n",
    "embeddings_with_pe = embeddings + pe[:seq_len, :]\n",
    "\n",
    "# Print shape and first couple of values\n",
    "print(\"Embeddings with Positional Encoding Shape:\", embeddings_with_pe.shape)\n",
    "print(\"\\nOriginal embeddings (first 2 positions, first 5 dimensions):\")\n",
    "print(embeddings[:2, :5])\n",
    "print(\"\\nPositional Encoding (first 2 positions, first 5 dimensions):\")\n",
    "print(pe[:2, :5])\n",
    "print(\"First few values of embeddings with PE:\")\n",
    "print(embeddings_with_pe[:2, :5])  # First 2 positions, first 5 dimensions"
   ]
  },
  {
   "cell_type": "code",
   "execution_count": 17,
   "id": "4712e17f",
   "metadata": {
    "hide_input": true,
    "scrolled": false,
    "slideshow": {
     "slide_type": "slide"
    },
    "tags": [
     "hide_input"
    ]
   },
   "outputs": [
    {
     "data": {
      "text/html": [
       "<pre style=\"white-space:pre;overflow-x:auto;line-height:normal;font-family:Menlo,'DejaVu Sans Mono',consolas,'Courier New',monospace\">Manim Community <span style=\"color: #008000; text-decoration-color: #008000\">v0.18.1</span>\n",
       "\n",
       "</pre>\n"
      ],
      "text/plain": [
       "Manim Community \u001b[32mv0.\u001b[0m\u001b[32m18.1\u001b[0m\n",
       "\n"
      ]
     },
     "metadata": {},
     "output_type": "display_data"
    },
    {
     "name": "stderr",
     "output_type": "stream",
     "text": [
      "                                                                                                                                                                                                                                                  \r"
     ]
    },
    {
     "data": {
      "text/html": [
       "<video src=\"media/jupyter/TransformerDiagram@2024-10-07@14-10-46.mp4\" controls autoplay loop style=\"max-width: 60%;\"  >\n",
       "      Your browser does not support the <code>video</code> element.\n",
       "    </video>"
      ],
      "text/plain": [
       "<IPython.core.display.Video object>"
      ]
     },
     "metadata": {},
     "output_type": "display_data"
    }
   ],
   "source": [
    "%manim -qh -v ERROR TransformerDiagram"
   ]
  },
  {
   "cell_type": "code",
   "execution_count": 18,
   "id": "97afd007",
   "metadata": {
    "hide_input": true,
    "slideshow": {
     "slide_type": "slide"
    },
    "tags": [
     "hide_input"
    ]
   },
   "outputs": [
    {
     "data": {
      "text/html": [
       "<pre style=\"white-space:pre;overflow-x:auto;line-height:normal;font-family:Menlo,'DejaVu Sans Mono',consolas,'Courier New',monospace\">Manim Community <span style=\"color: #008000; text-decoration-color: #008000\">v0.18.1</span>\n",
       "\n",
       "</pre>\n"
      ],
      "text/plain": [
       "Manim Community \u001b[32mv0.\u001b[0m\u001b[32m18.1\u001b[0m\n",
       "\n"
      ]
     },
     "metadata": {},
     "output_type": "display_data"
    },
    {
     "name": "stderr",
     "output_type": "stream",
     "text": [
      "                                                                                                                                                                                                                                                  \r"
     ]
    },
    {
     "data": {
      "text/html": [
       "<video src=\"media/jupyter/LinearLayers2D@2024-10-07@14-10-46.mp4\" controls autoplay loop style=\"max-width: 60%;\"  >\n",
       "      Your browser does not support the <code>video</code> element.\n",
       "    </video>"
      ],
      "text/plain": [
       "<IPython.core.display.Video object>"
      ]
     },
     "metadata": {},
     "output_type": "display_data"
    }
   ],
   "source": [
    "%manim -qh -v CRITICAL LinearLayers2D"
   ]
  },
  {
   "cell_type": "code",
   "execution_count": 19,
   "id": "64ec3170",
   "metadata": {
    "hide_input": true,
    "slideshow": {
     "slide_type": "slide"
    },
    "tags": [
     "hide_input"
    ]
   },
   "outputs": [
    {
     "data": {
      "text/html": [
       "<pre style=\"white-space:pre;overflow-x:auto;line-height:normal;font-family:Menlo,'DejaVu Sans Mono',consolas,'Courier New',monospace\">Manim Community <span style=\"color: #008000; text-decoration-color: #008000\">v0.18.1</span>\n",
       "\n",
       "</pre>\n"
      ],
      "text/plain": [
       "Manim Community \u001b[32mv0.\u001b[0m\u001b[32m18.1\u001b[0m\n",
       "\n"
      ]
     },
     "metadata": {},
     "output_type": "display_data"
    },
    {
     "name": "stderr",
     "output_type": "stream",
     "text": [
      "                                                                                                                                                                                                                                                  \r"
     ]
    },
    {
     "data": {
      "text/html": [
       "<video src=\"media/jupyter/KeyQueryValueCalculation@2024-10-07@14-10-54.mp4\" controls autoplay loop style=\"max-width: 60%;\"  >\n",
       "      Your browser does not support the <code>video</code> element.\n",
       "    </video>"
      ],
      "text/plain": [
       "<IPython.core.display.Video object>"
      ]
     },
     "metadata": {},
     "output_type": "display_data"
    }
   ],
   "source": [
    "%manim -qh -v CRITICAL KeyQueryValueCalculation"
   ]
  },
  {
   "cell_type": "code",
   "execution_count": 20,
   "id": "1be2cb7b",
   "metadata": {
    "slideshow": {
     "slide_type": "subslide"
    }
   },
   "outputs": [
    {
     "name": "stdout",
     "output_type": "stream",
     "text": [
      "Q shape:  torch.Size([6, 4])\n",
      "K shape:  torch.Size([6, 4])\n",
      "V shape:  torch.Size([6, 4])\n"
     ]
    }
   ],
   "source": [
    "seq_length = 6 # The context window\n",
    "d_model = embedding_dim \n",
    "# We are using the same embedding and model dimensionality like the paper, so 4\n",
    "\n",
    "key = nn.Linear(d_model, d_model, bias=False)\n",
    "query = nn.Linear(d_model, d_model, bias=False)\n",
    "value = nn.Linear(d_model, d_model, bias=False)\n",
    "\n",
    "# Linear projections\n",
    "Q = query(embeddings_with_pe)  # Shape: (seq_length, embedding_dim)\n",
    "K = key(embeddings_with_pe)    # Shape: (seq_length, embedding_dim)\n",
    "V = value(embeddings_with_pe)  # Shape: (seq_length, embedding_dim)\n",
    "\n",
    "print(\"Q shape: \", Q.shape)\n",
    "print(\"K shape: \", K.shape)\n",
    "print(\"V shape: \", V.shape)"
   ]
  },
  {
   "cell_type": "code",
   "execution_count": 21,
   "id": "8604efea",
   "metadata": {
    "hide_input": true,
    "slideshow": {
     "slide_type": "slide"
    },
    "tags": [
     "hide_input"
    ]
   },
   "outputs": [
    {
     "data": {
      "text/html": [
       "<pre style=\"white-space:pre;overflow-x:auto;line-height:normal;font-family:Menlo,'DejaVu Sans Mono',consolas,'Courier New',monospace\">Manim Community <span style=\"color: #008000; text-decoration-color: #008000\">v0.18.1</span>\n",
       "\n",
       "</pre>\n"
      ],
      "text/plain": [
       "Manim Community \u001b[32mv0.\u001b[0m\u001b[32m18.1\u001b[0m\n",
       "\n"
      ]
     },
     "metadata": {},
     "output_type": "display_data"
    },
    {
     "name": "stderr",
     "output_type": "stream",
     "text": [
      "                                                                                                                                                                                                                                                  \r"
     ]
    },
    {
     "data": {
      "text/html": [
       "<video src=\"media/jupyter/SplittingKeyQueryValue@2024-10-07@14-11-04.mp4\" controls autoplay loop style=\"max-width: 60%;\"  >\n",
       "      Your browser does not support the <code>video</code> element.\n",
       "    </video>"
      ],
      "text/plain": [
       "<IPython.core.display.Video object>"
      ]
     },
     "metadata": {},
     "output_type": "display_data"
    }
   ],
   "source": [
    "%manim -qh -v CRITICAL SplittingKeyQueryValue"
   ]
  },
  {
   "cell_type": "code",
   "execution_count": 22,
   "id": "21ae38cc",
   "metadata": {
    "slideshow": {
     "slide_type": "subslide"
    }
   },
   "outputs": [
    {
     "name": "stdout",
     "output_type": "stream",
     "text": [
      "Q shape:  torch.Size([2, 6, 2])\n",
      "K shape:  torch.Size([2, 6, 2])\n",
      "V shape:  torch.Size([2, 6, 2])\n"
     ]
    }
   ],
   "source": [
    "num_heads = 2  # The number of attention heads\n",
    "head_size = d_model // num_heads # This dk and dv, \n",
    "# note that the paper uses dk = dv = dmodel / num_heads\n",
    "# though dv doesn't have to be the same as dk\n",
    "\n",
    "Q = Q.view(seq_length, num_heads, head_size)  # (seq_length, num_heads, head_size)\n",
    "K = K.view(seq_length, num_heads, head_size)  # (seq_length, num_heads, head_size)\n",
    "V = V.view(seq_length, num_heads, head_size)  # (seq_length, num_heads, head_size)\n",
    "Q = Q.transpose(0, 1)  # (num_heads, seq_length, head_size)\n",
    "K = K.transpose(0, 1)  # (num_heads, seq_length, head_size)\n",
    "V = V.transpose(0, 1)  # (num_heads, seq_length, head_size)\n",
    "\n",
    "print(\"Q shape: \", Q.shape)\n",
    "print(\"K shape: \", K.shape)\n",
    "print(\"V shape: \", V.shape)"
   ]
  },
  {
   "attachments": {
    "image.png": {
     "image/png": "[encoded data removed]"
    }
   },
   "cell_type": "markdown",
   "id": "fc6b8db9",
   "metadata": {
    "slideshow": {
     "slide_type": "slide"
    }
   },
   "source": [
    "![image.png](attachment:image.png)"
   ]
  },
  {
   "cell_type": "code",
   "execution_count": 23,
   "id": "d2d9b2ce",
   "metadata": {
    "hide_input": true,
    "slideshow": {
     "slide_type": "subslide"
    },
    "tags": [
     "hide_input"
    ]
   },
   "outputs": [
    {
     "data": {
      "text/html": [
       "<pre style=\"white-space:pre;overflow-x:auto;line-height:normal;font-family:Menlo,'DejaVu Sans Mono',consolas,'Courier New',monospace\">Manim Community <span style=\"color: #008000; text-decoration-color: #008000\">v0.18.1</span>\n",
       "\n",
       "</pre>\n"
      ],
      "text/plain": [
       "Manim Community \u001b[32mv0.\u001b[0m\u001b[32m18.1\u001b[0m\n",
       "\n"
      ]
     },
     "metadata": {},
     "output_type": "display_data"
    },
    {
     "name": "stderr",
     "output_type": "stream",
     "text": [
      "                                                                                                                                                                                                                                                  \r"
     ]
    },
    {
     "data": {
      "text/html": [
       "<video src=\"media/jupyter/ScaledDotProductAttentionScene@2024-10-07@14-11-09.mp4\" controls autoplay loop style=\"max-width: 60%;\"  >\n",
       "      Your browser does not support the <code>video</code> element.\n",
       "    </video>"
      ],
      "text/plain": [
       "<IPython.core.display.Video object>"
      ]
     },
     "metadata": {},
     "output_type": "display_data"
    }
   ],
   "source": [
    "%manim -qh -v CRITICAL ScaledDotProductAttentionScene"
   ]
  },
  {
   "cell_type": "code",
   "execution_count": 24,
   "id": "720b2875",
   "metadata": {
    "slideshow": {
     "slide_type": "subslide"
    }
   },
   "outputs": [
    {
     "name": "stdout",
     "output_type": "stream",
     "text": [
      "attn_scores_masked: \n",
      " tensor([[[-0.2618,    -inf,    -inf,    -inf,    -inf,    -inf],\n",
      "         [-0.2256,  0.0509,    -inf,    -inf,    -inf,    -inf],\n",
      "         [ 0.5491, -1.1830, -1.1264,    -inf,    -inf,    -inf],\n",
      "         [ 0.3827, -0.6990, -0.7371, -0.1133,    -inf,    -inf],\n",
      "         [ 0.4141, -0.5756, -0.7287, -0.1023,  0.1112,    -inf],\n",
      "         [ 0.2806, -0.7514, -0.6317, -0.1100,  0.3873, -0.9395]],\n",
      "\n",
      "        [[-0.2027,    -inf,    -inf,    -inf,    -inf,    -inf],\n",
      "         [-0.3423,  0.5148,    -inf,    -inf,    -inf,    -inf],\n",
      "         [-0.1138, -0.1331, -0.0568,    -inf,    -inf,    -inf],\n",
      "         [-0.0304, -0.0539, -0.0131, -0.0676,    -inf,    -inf],\n",
      "         [ 0.2167, -0.5435,  0.1977,  0.1758,  0.8045,    -inf],\n",
      "         [-0.1478,  0.0738, -0.1015, -0.2179, -0.0497,  0.0355]]],\n",
      "       grad_fn=<MaskedFillBackward0>)\n",
      "torch.Size([2, 6, 2])\n"
     ]
    }
   ],
   "source": [
    "# Scaled Dot-Product Attention\n",
    "\n",
    "# Q shape:  torch.Size([2, 6, 2])\n",
    "# K shape:  torch.Size([2, 6, 2])\n",
    "# V shape:  torch.Size([2, 6, 2])\n",
    "\n",
    "# Step 1: Compute attention scores\n",
    "attn_scores = torch.matmul(Q, K.transpose(-2, -1))  # (num_heads, seq_length, seq_length)\n",
    "\n",
    "# Step 2: Scale the scores by the square root of the head size, to be explained\n",
    "attn_scores = attn_scores / torch.sqrt(torch.tensor(head_size, dtype=torch.float32))\n",
    "\n",
    "# Step 3: Apply the mask (optional) if in the decoder\n",
    "tril = torch.tril(torch.ones(seq_length, seq_length))\n",
    "# Note the different variable name, since we are in the encoder, we don't need to mask. Just for demo purposes\n",
    "attn_scores_masked = attn_scores.masked_fill(tril == 0, float('-inf'))\n",
    "print('attn_scores_masked: \\n', attn_scores_masked)\n",
    "\n",
    "# Step 4: Apply softmax to get attention weights\n",
    "attn_weights = F.softmax(attn_scores, dim=-1)  # (num_heads, seq_length, seq_length)\n",
    "\n",
    "# Step 5: Apply attention weights to the values\n",
    "attn_output = torch.matmul(attn_weights, V)  # (num_heads, seq_length, head_size)\n",
    "print(attn_output.shape)\n"
   ]
  },
  {
   "cell_type": "code",
   "execution_count": 43,
   "id": "438582ae",
   "metadata": {
    "scrolled": true,
    "slideshow": {
     "slide_type": "subslide"
    }
   },
   "outputs": [
    {
     "name": "stdout",
     "output_type": "stream",
     "text": [
      "key_demo variance:  tensor(1.0917)\n",
      "query_demo variance:  tensor(1.0146)\n",
      "wei variance:  tensor(2.0955)\n",
      "wei variance:  tensor(1.0477)\n",
      "tensor([0.3269, 0.1088, 0.1983, 0.1469, 0.2191])\n",
      "tensor([9.7522e-01, 1.6288e-05, 6.5710e-03, 3.2715e-04, 1.7862e-02])\n"
     ]
    }
   ],
   "source": [
    "batch_size = 32 # included to make demonstration more realistic\n",
    "seq_length = 6\n",
    "head_size = 2\n",
    "key_demo = torch.randn(batch_size, seq_length, head_size)\n",
    "query_demo = torch.randn(batch_size, seq_length, head_size)\n",
    "key_query_output = query_demo @ key_demo.transpose(-2, -1)\n",
    "key_query_output_scaled = query_demo @ key_demo.transpose(-2, -1) * head_size**-0.5\n",
    "\n",
    "print(\"key_demo variance: \", key_demo.var())\n",
    "print(\"query_demo variance: \", query_demo.var())\n",
    "print(\"wei variance: \", key_query_output.var())\n",
    "print(\"wei variance: \", key_query_output_scaled.var())\n",
    "print(torch.softmax(torch.tensor([0.7, -0.4, 0.2, -0.1, 0.3]), dim=-1))\n",
    "print(torch.softmax(torch.tensor([0.7, -0.4, 0.2, -0.1, 0.3])*10, dim=-1))"
   ]
  },
  {
   "cell_type": "code",
   "execution_count": 26,
   "id": "c67b2dbe",
   "metadata": {
    "hide_input": false,
    "slideshow": {
     "slide_type": "slide"
    },
    "tags": [
     "hide_input"
    ]
   },
   "outputs": [
    {
     "data": {
      "text/html": [
       "<pre style=\"white-space:pre;overflow-x:auto;line-height:normal;font-family:Menlo,'DejaVu Sans Mono',consolas,'Courier New',monospace\">Manim Community <span style=\"color: #008000; text-decoration-color: #008000\">v0.18.1</span>\n",
       "\n",
       "</pre>\n"
      ],
      "text/plain": [
       "Manim Community \u001b[32mv0.\u001b[0m\u001b[32m18.1\u001b[0m\n",
       "\n"
      ]
     },
     "metadata": {},
     "output_type": "display_data"
    },
    {
     "name": "stderr",
     "output_type": "stream",
     "text": [
      "                                                                                                                                                                                                                                                  \r"
     ]
    },
    {
     "data": {
      "text/html": [
       "<video src=\"media/jupyter/LinearLayers2D@2024-10-07@14-11-09.mp4\" controls autoplay loop style=\"max-width: 60%;\"  >\n",
       "      Your browser does not support the <code>video</code> element.\n",
       "    </video>"
      ],
      "text/plain": [
       "<IPython.core.display.Video object>"
      ]
     },
     "metadata": {},
     "output_type": "display_data"
    }
   ],
   "source": [
    "%manim -qh -v CRITICAL LinearLayers2D"
   ]
  },
  {
   "cell_type": "code",
   "execution_count": 27,
   "id": "8c276dae",
   "metadata": {
    "hide_input": true,
    "slideshow": {
     "slide_type": "slide"
    },
    "tags": [
     "hide_input"
    ]
   },
   "outputs": [
    {
     "data": {
      "text/html": [
       "<pre style=\"white-space:pre;overflow-x:auto;line-height:normal;font-family:Menlo,'DejaVu Sans Mono',consolas,'Courier New',monospace\">Manim Community <span style=\"color: #008000; text-decoration-color: #008000\">v0.18.1</span>\n",
       "\n",
       "</pre>\n"
      ],
      "text/plain": [
       "Manim Community \u001b[32mv0.\u001b[0m\u001b[32m18.1\u001b[0m\n",
       "\n"
      ]
     },
     "metadata": {},
     "output_type": "display_data"
    },
    {
     "name": "stderr",
     "output_type": "stream",
     "text": [
      "                                                                                                                                                                                                                                                  \r"
     ]
    },
    {
     "data": {
      "text/html": [
       "<video src=\"media/jupyter/MergingKeyQueryValue@2024-10-07@14-11-15.mp4\" controls autoplay loop style=\"max-width: 60%;\"  >\n",
       "      Your browser does not support the <code>video</code> element.\n",
       "    </video>"
      ],
      "text/plain": [
       "<IPython.core.display.Video object>"
      ]
     },
     "metadata": {},
     "output_type": "display_data"
    }
   ],
   "source": [
    "%manim -qh -v CRITICAL MergingKeyQueryValue"
   ]
  },
  {
   "cell_type": "code",
   "execution_count": 28,
   "id": "38aac3cb",
   "metadata": {
    "scrolled": true,
    "slideshow": {
     "slide_type": "subslide"
    }
   },
   "outputs": [
    {
     "name": "stdout",
     "output_type": "stream",
     "text": [
      "torch.Size([6, 4])\n"
     ]
    }
   ],
   "source": [
    "# Step 6: Combine heads (flatten the num_heads dimension)\n",
    "attn_output = attn_output.transpose(0, 1).contiguous()  # (seq_length, num_heads, head_size)\n",
    "attn_output = attn_output.view(seq_length, d_model)  # (seq_length, d_model)\n",
    "\n",
    "# attn_output is now the result of the multi-head attention mechanism\n",
    "print(attn_output.shape)  # Should output: (seq_length, d_model)\n",
    "\n",
    "# Step 7: final linear layer\n",
    "final_linear = nn.Linear(d_model, d_model)\n",
    "attn_output = final_linear(attn_output)\n"
   ]
  },
  {
   "cell_type": "code",
   "execution_count": 29,
   "id": "b35d2df3",
   "metadata": {
    "hide_input": false,
    "scrolled": true,
    "slideshow": {
     "slide_type": "slide"
    },
    "tags": [
     "hide_input"
    ]
   },
   "outputs": [
    {
     "data": {
      "text/html": [
       "<pre style=\"white-space:pre;overflow-x:auto;line-height:normal;font-family:Menlo,'DejaVu Sans Mono',consolas,'Courier New',monospace\">Manim Community <span style=\"color: #008000; text-decoration-color: #008000\">v0.18.1</span>\n",
       "\n",
       "</pre>\n"
      ],
      "text/plain": [
       "Manim Community \u001b[32mv0.\u001b[0m\u001b[32m18.1\u001b[0m\n",
       "\n"
      ]
     },
     "metadata": {},
     "output_type": "display_data"
    },
    {
     "name": "stderr",
     "output_type": "stream",
     "text": [
      "                                                                                                                                                                                                                                                  \r"
     ]
    },
    {
     "data": {
      "text/html": [
       "<video src=\"media/jupyter/TransformerDiagram@2024-10-07@14-11-17.mp4\" controls autoplay loop style=\"max-width: 60%;\"  >\n",
       "      Your browser does not support the <code>video</code> element.\n",
       "    </video>"
      ],
      "text/plain": [
       "<IPython.core.display.Video object>"
      ]
     },
     "metadata": {},
     "output_type": "display_data"
    }
   ],
   "source": [
    "%manim -qh -v ERROR TransformerDiagram"
   ]
  },
  {
   "cell_type": "code",
   "execution_count": 35,
   "id": "8e5ee90c",
   "metadata": {
    "hide_input": false,
    "slideshow": {
     "slide_type": "slide"
    },
    "tags": [
     "hide_input"
    ]
   },
   "outputs": [
    {
     "data": {
      "text/html": [
       "<pre style=\"white-space:pre;overflow-x:auto;line-height:normal;font-family:Menlo,'DejaVu Sans Mono',consolas,'Courier New',monospace\">Manim Community <span style=\"color: #008000; text-decoration-color: #008000\">v0.18.1</span>\n",
       "\n",
       "</pre>\n"
      ],
      "text/plain": [
       "Manim Community \u001b[32mv0.\u001b[0m\u001b[32m18.1\u001b[0m\n",
       "\n"
      ]
     },
     "metadata": {},
     "output_type": "display_data"
    },
    {
     "name": "stderr",
     "output_type": "stream",
     "text": [
      "                                                                                                                                                                                                                                                  \r"
     ]
    },
    {
     "data": {
      "text/html": [
       "<video src=\"media/jupyter/ResidualConnection@2024-10-07@14-24-06.mp4\" controls autoplay loop style=\"max-width: 60%;\"  >\n",
       "      Your browser does not support the <code>video</code> element.\n",
       "    </video>"
      ],
      "text/plain": [
       "<IPython.core.display.Video object>"
      ]
     },
     "metadata": {},
     "output_type": "display_data"
    }
   ],
   "source": [
    "%manim -qh -v CRITICAL ResidualConnection"
   ]
  },
  {
   "cell_type": "code",
   "execution_count": 31,
   "id": "3d89a375",
   "metadata": {
    "slideshow": {
     "slide_type": "subslide"
    }
   },
   "outputs": [
    {
     "name": "stdout",
     "output_type": "stream",
     "text": [
      "attn_output:  torch.Size([6, 4])\n"
     ]
    }
   ],
   "source": [
    "# Step 7: final linear layer\n",
    "# final_linear = nn.Linear(d_model, d_model)\n",
    "# attn_output = final_linear(attn_output)\n",
    "\n",
    "# Step 8: Add droppouts, residual connection and normalization\n",
    "dropout = nn.Dropout(0.1)  # Create a dropout layer with 10% dropout rate\n",
    "attn_output = dropout(attn_output)  # Apply dropout to attention output\n",
    "attn_output = attn_output + embeddings_with_pe  # Residual connection\n",
    "attn_output = nn.LayerNorm(d_model)(attn_output)  # Normalization\n",
    "\n",
    "print(\"attn_output: \", attn_output.shape) # shape of (seq_length, d_model)\n"
   ]
  },
  {
   "cell_type": "code",
   "execution_count": 19,
   "id": "10804569",
   "metadata": {
    "hide_input": false,
    "scrolled": false,
    "slideshow": {
     "slide_type": "slide"
    },
    "tags": [
     "hide_input"
    ]
   },
   "outputs": [
    {
     "data": {
      "text/html": [
       "<pre style=\"white-space:pre;overflow-x:auto;line-height:normal;font-family:Menlo,'DejaVu Sans Mono',consolas,'Courier New',monospace\">Manim Community <span style=\"color: #008000; text-decoration-color: #008000\">v0.18.1</span>\n",
       "\n",
       "</pre>\n"
      ],
      "text/plain": [
       "Manim Community \u001b[32mv0.\u001b[0m\u001b[32m18.1\u001b[0m\n",
       "\n"
      ]
     },
     "metadata": {},
     "output_type": "display_data"
    },
    {
     "name": "stderr",
     "output_type": "stream",
     "text": [
      "                                                                                                                                                                                                      \r"
     ]
    },
    {
     "data": {
      "text/html": [
       "<video src=\"media/jupyter/TransformerDiagram@2024-10-07@10-52-01.mp4\" controls autoplay loop style=\"max-width: 60%;\"  >\n",
       "      Your browser does not support the <code>video</code> element.\n",
       "    </video>"
      ],
      "text/plain": [
       "<IPython.core.display.Video object>"
      ]
     },
     "metadata": {},
     "output_type": "display_data"
    }
   ],
   "source": [
    "%manim -qh -v ERROR TransformerDiagram"
   ]
  },
  {
   "cell_type": "code",
   "execution_count": 32,
   "id": "84be00e2",
   "metadata": {
    "hide_input": true,
    "slideshow": {
     "slide_type": "slide"
    },
    "tags": [
     "hide_input"
    ]
   },
   "outputs": [
    {
     "data": {
      "text/html": [
       "<pre style=\"white-space:pre;overflow-x:auto;line-height:normal;font-family:Menlo,'DejaVu Sans Mono',consolas,'Courier New',monospace\">Manim Community <span style=\"color: #008000; text-decoration-color: #008000\">v0.18.1</span>\n",
       "\n",
       "</pre>\n"
      ],
      "text/plain": [
       "Manim Community \u001b[32mv0.\u001b[0m\u001b[32m18.1\u001b[0m\n",
       "\n"
      ]
     },
     "metadata": {},
     "output_type": "display_data"
    },
    {
     "name": "stderr",
     "output_type": "stream",
     "text": [
      "                                                                                                                                                                                                                                                  \r"
     ]
    },
    {
     "data": {
      "text/html": [
       "<video src=\"media/jupyter/FeedForwardNetwork@2024-10-07@14-11-25.mp4\" controls autoplay loop style=\"max-width: 60%;\"  >\n",
       "      Your browser does not support the <code>video</code> element.\n",
       "    </video>"
      ],
      "text/plain": [
       "<IPython.core.display.Video object>"
      ]
     },
     "metadata": {},
     "output_type": "display_data"
    }
   ],
   "source": [
    "%manim -qh -v CRITICAL FeedForwardNetwork"
   ]
  },
  {
   "cell_type": "code",
   "execution_count": 33,
   "id": "a6dce9b5",
   "metadata": {
    "slideshow": {
     "slide_type": "subslide"
    }
   },
   "outputs": [
    {
     "name": "stdout",
     "output_type": "stream",
     "text": [
      "ffwd_output:  torch.Size([6, 4])\n"
     ]
    }
   ],
   "source": [
    "# Feed Forward block\n",
    "first_linear = nn.Linear(d_model, 4 * d_model) # Note how there is a bias term in the linear layer\n",
    "relu = nn.ReLU()\n",
    "second_linear = nn.Linear(4 * d_model, d_model) # Note how there is a bias term in the linear layer\n",
    "dropout = nn.Dropout(0.1)\n",
    "\n",
    "# Apply feed forward block\n",
    "ffwd_output = first_linear(attn_output)\n",
    "ffwd_output = relu(ffwd_output)\n",
    "ffwd_output = second_linear(ffwd_output)\n",
    "ffwd_output = dropout(ffwd_output)\n",
    "ffwd_output = ffwd_output + attn_output  # Residual connection\n",
    "ffwd_output = nn.LayerNorm(d_model)(ffwd_output)  # Normalization\n",
    "print(\"ffwd_output: \", ffwd_output.shape)"
   ]
  },
  {
   "cell_type": "code",
   "execution_count": 19,
   "id": "b4bb48ce",
   "metadata": {
    "hide_input": false,
    "scrolled": false,
    "slideshow": {
     "slide_type": "slide"
    },
    "tags": [
     "hide_input"
    ]
   },
   "outputs": [
    {
     "data": {
      "text/html": [
       "<pre style=\"white-space:pre;overflow-x:auto;line-height:normal;font-family:Menlo,'DejaVu Sans Mono',consolas,'Courier New',monospace\">Manim Community <span style=\"color: #008000; text-decoration-color: #008000\">v0.18.1</span>\n",
       "\n",
       "</pre>\n"
      ],
      "text/plain": [
       "Manim Community \u001b[32mv0.\u001b[0m\u001b[32m18.1\u001b[0m\n",
       "\n"
      ]
     },
     "metadata": {},
     "output_type": "display_data"
    },
    {
     "name": "stderr",
     "output_type": "stream",
     "text": [
      "                                                                                                                                                                                                      \r"
     ]
    },
    {
     "data": {
      "text/html": [
       "<video src=\"media/jupyter/TransformerDiagram@2024-10-07@10-52-01.mp4\" controls autoplay loop style=\"max-width: 60%;\"  >\n",
       "      Your browser does not support the <code>video</code> element.\n",
       "    </video>"
      ],
      "text/plain": [
       "<IPython.core.display.Video object>"
      ]
     },
     "metadata": {},
     "output_type": "display_data"
    }
   ],
   "source": [
    "%manim -qh -v ERROR TransformerDiagram"
   ]
  },
  {
   "cell_type": "markdown",
   "id": "82cbcce8",
   "metadata": {
    "slideshow": {
     "slide_type": "slide"
    }
   },
   "source": [
    "How to train?\n",
    "\n",
    "- Cross-entropy for the loss function\n",
    "- For a translation, a human translated english is compared to the machine translated english."
   ]
  },
  {
   "cell_type": "code",
   "execution_count": null,
   "id": "bcf24e5b",
   "metadata": {
    "slideshow": {
     "slide_type": "subslide"
    }
   },
   "outputs": [],
   "source": [
    "# =========================\n",
    "# Optimizer and Loss Calculation\n",
    "# =========================\n",
    "def train_model(model, optimizer, loss_fn, train_data, val_data, max_iters, eval_interval):\n",
    "    for iter in range(max_iters):\n",
    "        # get a single training example\n",
    "        x, y = get_data('train')\n",
    "\n",
    "        # evaluate the loss\n",
    "        logits, loss = model(x.unsqueeze(0), y.unsqueeze(0))\n",
    "        optimizer.zero_grad(set_to_none=True)\n",
    "        loss.backward()\n",
    "        optimizer.step()\n",
    "\n",
    "# Calculate loss using cross-entropy\n",
    "loss_fn = nn.CrossEntropyLoss(ignore_index=0)  # Ignore padding index '0'\n",
    "loss = loss_fn(output_logits.view(-1, vocab_size_decoder + 1), tgt_tensor.view(-1))\n",
    "\n",
    "optimizer = torch.optim.AdamW(model.parameters(), lr=1e-3)"
   ]
  },
  {
   "cell_type": "markdown",
   "id": "634549b6",
   "metadata": {
    "slideshow": {
     "slide_type": "slide"
    }
   },
   "source": [
    "## Usage\n",
    "The notice the input sentence, and the max sequence length (or context) is passed to the model."
   ]
  },
  {
   "cell_type": "code",
   "execution_count": 36,
   "id": "18bd5533",
   "metadata": {
    "slideshow": {
     "slide_type": "slide"
    }
   },
   "outputs": [
    {
     "data": {
      "text/html": [
       "<pre style=\"white-space:pre;overflow-x:auto;line-height:normal;font-family:Menlo,'DejaVu Sans Mono',consolas,'Courier New',monospace\">Manim Community <span style=\"color: #008000; text-decoration-color: #008000\">v0.18.1</span>\n",
       "\n",
       "</pre>\n"
      ],
      "text/plain": [
       "Manim Community \u001b[32mv0.\u001b[0m\u001b[32m18.1\u001b[0m\n",
       "\n"
      ]
     },
     "metadata": {},
     "output_type": "display_data"
    },
    {
     "name": "stderr",
     "output_type": "stream",
     "text": [
      "                                                                                                                                                                                                                                                  \r"
     ]
    },
    {
     "data": {
      "text/html": [
       "<video src=\"media/jupyter/CatExample@2024-10-07@14-32-27.mp4\" controls autoplay loop style=\"max-width: 60%;\"  >\n",
       "      Your browser does not support the <code>video</code> element.\n",
       "    </video>"
      ],
      "text/plain": [
       "<IPython.core.display.Video object>"
      ]
     },
     "metadata": {},
     "output_type": "display_data"
    }
   ],
   "source": [
    "%manim -qh -v CRITICAL CatExample"
   ]
  },
  {
   "cell_type": "code",
   "execution_count": null,
   "id": "b9ac02e5",
   "metadata": {
    "slideshow": {
     "slide_type": "subslide"
    }
   },
   "outputs": [],
   "source": [
    "def generate_translation(input_sentence, max_output_length, trained_model):\n",
    "    # Convert input sentence to numerical representation\n",
    "    encoded_input = sentence_to_numbers_encoder(input_sentence)\n",
    "    source_tensor = torch.tensor(encoded_input).unsqueeze(0)\n",
    "    \n",
    "    # Initialize output sequence with a start token\n",
    "    output_sequence = torch.zeros((1, 1), dtype=torch.long)\n",
    "    for _ in range(max_output_length):\n",
    "        # Use only the last max_output_length tokens as context\n",
    "        current_output = output_sequence[:, -max_output_length:]\n",
    "        # Generate logits and loss (unused) from the model\n",
    "        token_logits, _ = trained_model(current_output, source_tensor)\n",
    "        # Select logits for the most recent token\n",
    "        latest_token_logits = token_logits[:, -1, :]  # Shape: (batch_size, vocab_size)\n",
    "        # Convert logits to probabilities\n",
    "        token_probabilities = F.softmax(latest_token_logits, dim=-1)  # Shape: (batch_size, vocab_size)\n",
    "        # Randomly sample next token based on probabilities\n",
    "        next_token = torch.multinomial(token_probabilities, num_samples=1)  # Shape: (batch_size, 1)\n",
    "        # Append new token to the sequence\n",
    "        output_sequence = torch.cat((output_sequence, next_token), dim=1)  # Shape: (batch_size, sequence_length + 1)\n",
    "    return output_sequence\n",
    "\n",
    "\n",
    "# Example usage\n",
    "input_sentence = \"The dog jumped over the fence\"\n",
    "seq_length = 10\n",
    "model = create_transformer_model(vocab_size_encoder, vocab_size_decoder)\n",
    "# trained_model = train_model(model, loss_fn, train_data, val_data, max_iters, eval_interval)\n",
    "translated_sentence = generate_translation(input_sentence, seq_length, model)\n",
    "print(f\"Input: {input_sentence}\")\n",
    "print(f\"Translation: {translated_sentence}\")"
   ]
  },
  {
   "cell_type": "markdown",
   "id": "e09de32c",
   "metadata": {
    "slideshow": {
     "slide_type": "slide"
    }
   },
   "source": [
    "Now that we have finished the encoder, we can use it to feed into the decoder.\n",
    "<br> Input: The cat sat on the mat\n",
    "<br> Output: It sounds like you're quoting a classic simple sentence!"
   ]
  },
  {
   "cell_type": "code",
   "execution_count": null,
   "id": "209d04c5",
   "metadata": {
    "hide_input": true,
    "scrolled": true,
    "slideshow": {
     "slide_type": "slide"
    },
    "tags": [
     "hide_input"
    ]
   },
   "outputs": [],
   "source": [
    "%manim -qh -v CRITICAL CatExample"
   ]
  },
  {
   "cell_type": "markdown",
   "id": "699cf051",
   "metadata": {
    "slideshow": {
     "slide_type": "slide"
    }
   },
   "source": [
    "Sources:\n",
    "1. Ashish Vaswani, Noam Shazeer, Niki Parmar, Jakob Uszkoreit, Llion Jones, Aidan N. Gomez, Łukasz Kaiser, and Illia Polosukhin. 2017. Attention is all you need. In Proceedings of the 31st International Conference on Neural Information Processing Systems (NIPS'17). Curran Associates Inc., Red Hook, NY, USA, 6000–6010.\n",
    "\n",
    "2. Andrej Karpathy. 2023 Let's build GPT: from scratch, in code, spelled out. Youtube https://www.youtube.com/watch?v=kCc8FmEb1nY&t=3114s\n",
    "\n",
    "3. Cursor IDE"
   ]
  }
 ],
 "metadata": {
  "celltoolbar": "Slideshow",
  "kernelspec": {
   "display_name": "Python 3 (ipykernel)",
   "language": "python",
   "name": "python3"
  },
  "language_info": {
   "codemirror_mode": {
    "name": "ipython",
    "version": 3
   },
   "file_extension": ".py",
   "mimetype": "text/x-python",
   "name": "python",
   "nbconvert_exporter": "python",
   "pygments_lexer": "ipython3",
   "version": "3.11.10"
  }
 },
 "nbformat": 4,
 "nbformat_minor": 5
}
